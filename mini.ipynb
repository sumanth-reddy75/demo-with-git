{
 "cells": [
  {
   "cell_type": "code",
   "execution_count": null,
   "metadata": {},
   "outputs": [],
   "source": [
    "print(\"locally initialized\")\n",
    "\n",
    "\n",
    "\n",
    "\n",
    "print(\"locally completed  and remotely added\")\n",
    "\n",
    "\n",
    "print(\"locally ... ended\")"
   ]
  }
 ],
 "metadata": {
  "language_info": {
   "name": "python"
  },
  "orig_nbformat": 4
 },
 "nbformat": 4,
 "nbformat_minor": 2
}
