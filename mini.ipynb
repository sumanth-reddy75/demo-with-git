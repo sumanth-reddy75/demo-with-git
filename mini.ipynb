{
 "cells": [
  {
   "cell_type": "code",
   "execution_count": null,
   "metadata": {},
   "outputs": [],
   "source": [
    "print(\"locally initialized\")\n",
    "\n",
    "\n",
    "\n",
    "\n",
<<<<<<< HEAD
    "print(\"locally ...contd\")\n",
    "\n",
    "\n",
    "print(\"locally ... ended\")"
=======
    "print(\"locally completed   and remotely added\")"
>>>>>>> f3aec59fda8d8fbe6282dbf949073d8f702927d7
   ]
  }
 ],
 "metadata": {
  "language_info": {
   "name": "python"
  },
  "orig_nbformat": 4
 },
 "nbformat": 4,
 "nbformat_minor": 2
}
