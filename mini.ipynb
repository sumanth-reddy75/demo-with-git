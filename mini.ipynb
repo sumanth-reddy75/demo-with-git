{
 "cells": [
  {
   "cell_type": "code",
   "execution_count": null,
   "metadata": {},
   "outputs": [],
   "source": [
    "print(\"locally initialized\")\n",
    "\n",
    "\n",
    "\n",
    "\n",
    "print(\"locally completed\")"
    "\n",
    "\n",
    "\n",
    "\n",
    "print(\"remotely added\")"
   ]
  }
 ],
 "metadata": {
  "language_info": {
   "name": "python"
  },
  "orig_nbformat": 4
 },
 "nbformat": 4,
 "nbformat_minor": 2
}
